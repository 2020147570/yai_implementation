{
  "nbformat": 4,
  "nbformat_minor": 0,
  "metadata": {
    "colab": {
      "provenance": [],
      "collapsed_sections": [
        "G70JZCyhnjhP",
        "2IXxkcSPnrlS",
        "2iNpcNXC7YI-"
      ],
      "gpuType": "T4"
    },
    "kernelspec": {
      "name": "python3",
      "display_name": "Python 3"
    },
    "language_info": {
      "name": "python"
    },
    "accelerator": "GPU"
  },
  "cells": [
    {
      "cell_type": "markdown",
      "source": [
        "# [Study] Encode Dataset"
      ],
      "metadata": {
        "id": "G70JZCyhnjhP"
      }
    },
    {
      "cell_type": "code",
      "execution_count": null,
      "metadata": {
        "colab": {
          "base_uri": "https://localhost:8080/"
        },
        "id": "eC3IUseidTyd",
        "outputId": "f999fb6b-2569-46d0-c5e8-723d3199e045"
      },
      "outputs": [
        {
          "output_type": "stream",
          "name": "stdout",
          "text": [
            "--2024-03-25 05:42:50--  https://raw.githubusercontent.com/karpathy/char-rnn/master/data/tinyshakespeare/input.txt\n",
            "Resolving raw.githubusercontent.com (raw.githubusercontent.com)... 185.199.108.133, 185.199.109.133, 185.199.110.133, ...\n",
            "Connecting to raw.githubusercontent.com (raw.githubusercontent.com)|185.199.108.133|:443... connected.\n",
            "HTTP request sent, awaiting response... 200 OK\n",
            "Length: 1115394 (1.1M) [text/plain]\n",
            "Saving to: ‘input.txt’\n",
            "\n",
            "input.txt           100%[===================>]   1.06M  --.-KB/s    in 0.04s   \n",
            "\n",
            "2024-03-25 05:42:50 (27.7 MB/s) - ‘input.txt’ saved [1115394/1115394]\n",
            "\n"
          ]
        }
      ],
      "source": [
        "# dataset download\n",
        "!wget https://raw.githubusercontent.com/karpathy/char-rnn/master/data/tinyshakespeare/input.txt"
      ]
    },
    {
      "cell_type": "code",
      "source": [
        "# file inspection\n",
        "with open('input.txt', 'r', encoding='utf-8') as f:\n",
        "  text = f.read()\n",
        "\n",
        "print(\"length of dataset in characters: \", len(text))\n",
        "print()\n",
        "print(text[:1000])"
      ],
      "metadata": {
        "colab": {
          "base_uri": "https://localhost:8080/"
        },
        "id": "gF08CUEGj1b8",
        "outputId": "e8bafe13-d841-46bc-9d6c-eb560094f330"
      },
      "execution_count": null,
      "outputs": [
        {
          "output_type": "stream",
          "name": "stdout",
          "text": [
            "length of dataset in characters:  1115394\n",
            "\n",
            "First Citizen:\n",
            "Before we proceed any further, hear me speak.\n",
            "\n",
            "All:\n",
            "Speak, speak.\n",
            "\n",
            "First Citizen:\n",
            "You are all resolved rather to die than to famish?\n",
            "\n",
            "All:\n",
            "Resolved. resolved.\n",
            "\n",
            "First Citizen:\n",
            "First, you know Caius Marcius is chief enemy to the people.\n",
            "\n",
            "All:\n",
            "We know't, we know't.\n",
            "\n",
            "First Citizen:\n",
            "Let us kill him, and we'll have corn at our own price.\n",
            "Is't a verdict?\n",
            "\n",
            "All:\n",
            "No more talking on't; let it be done: away, away!\n",
            "\n",
            "Second Citizen:\n",
            "One word, good citizens.\n",
            "\n",
            "First Citizen:\n",
            "We are accounted poor citizens, the patricians good.\n",
            "What authority surfeits on would relieve us: if they\n",
            "would yield us but the superfluity, while it were\n",
            "wholesome, we might guess they relieved us humanely;\n",
            "but they think we are too dear: the leanness that\n",
            "afflicts us, the object of our misery, is as an\n",
            "inventory to particularise their abundance; our\n",
            "sufferance is a gain to them Let us revenge this with\n",
            "our pikes, ere we become rakes: for the gods know I\n",
            "speak this in hunger for bread, not in thirst for revenge.\n",
            "\n",
            "\n"
          ]
        }
      ]
    },
    {
      "cell_type": "code",
      "source": [
        "# unique characters in dataset\n",
        "chars = sorted(list(set(text))) # unique characters\n",
        "vocab_size = len(chars)\n",
        "print(''.join(chars))\n",
        "print(vocab_size)"
      ],
      "metadata": {
        "colab": {
          "base_uri": "https://localhost:8080/"
        },
        "id": "nDJ9JhyHkOEP",
        "outputId": "33764621-6ad6-4300-8029-2834df2917da"
      },
      "execution_count": null,
      "outputs": [
        {
          "output_type": "stream",
          "name": "stdout",
          "text": [
            "\n",
            " !$&',-.3:;?ABCDEFGHIJKLMNOPQRSTUVWXYZabcdefghijklmnopqrstuvwxyz\n",
            "65\n"
          ]
        }
      ]
    },
    {
      "cell_type": "code",
      "source": [
        "# label encoding\n",
        "stoi = { ch:i for i,ch in enumerate(chars) }\n",
        "itos = { i:ch for i,ch in enumerate(chars) }\n",
        "encode = lambda s: [stoi[c] for c in s]\n",
        "decode = lambda l: ''.join(itos[i] for i in l)\n",
        "\n",
        "print(encode(\"gpt- is all you need\"))\n",
        "print(decode(encode(\"gpt- is all you need\")))"
      ],
      "metadata": {
        "colab": {
          "base_uri": "https://localhost:8080/"
        },
        "id": "MR4XIOH-kjHd",
        "outputId": "bac7f0f2-ec30-41c1-e7cb-e226f5a44677"
      },
      "execution_count": null,
      "outputs": [
        {
          "output_type": "stream",
          "name": "stdout",
          "text": [
            "[45, 54, 58, 7, 1, 47, 57, 1, 39, 50, 50, 1, 63, 53, 59, 1, 52, 43, 43, 42]\n",
            "gpt- is all you need\n"
          ]
        }
      ]
    },
    {
      "cell_type": "code",
      "source": [
        "# encode dataset\n",
        "import torch\n",
        "data = torch.tensor(encode(text), dtype=torch.long)\n",
        "print(data.shape, data.dtype)\n",
        "print(data[:1000])"
      ],
      "metadata": {
        "colab": {
          "base_uri": "https://localhost:8080/"
        },
        "id": "mTGw5nh_mHzS",
        "outputId": "e48e403f-e5a9-400d-ebe5-0044b0a2bf7d"
      },
      "execution_count": null,
      "outputs": [
        {
          "output_type": "stream",
          "name": "stdout",
          "text": [
            "torch.Size([1115394]) torch.int64\n",
            "tensor([18, 47, 56, 57, 58,  1, 15, 47, 58, 47, 64, 43, 52, 10,  0, 14, 43, 44,\n",
            "        53, 56, 43,  1, 61, 43,  1, 54, 56, 53, 41, 43, 43, 42,  1, 39, 52, 63,\n",
            "         1, 44, 59, 56, 58, 46, 43, 56,  6,  1, 46, 43, 39, 56,  1, 51, 43,  1,\n",
            "        57, 54, 43, 39, 49,  8,  0,  0, 13, 50, 50, 10,  0, 31, 54, 43, 39, 49,\n",
            "         6,  1, 57, 54, 43, 39, 49,  8,  0,  0, 18, 47, 56, 57, 58,  1, 15, 47,\n",
            "        58, 47, 64, 43, 52, 10,  0, 37, 53, 59,  1, 39, 56, 43,  1, 39, 50, 50,\n",
            "         1, 56, 43, 57, 53, 50, 60, 43, 42,  1, 56, 39, 58, 46, 43, 56,  1, 58,\n",
            "        53,  1, 42, 47, 43,  1, 58, 46, 39, 52,  1, 58, 53,  1, 44, 39, 51, 47,\n",
            "        57, 46, 12,  0,  0, 13, 50, 50, 10,  0, 30, 43, 57, 53, 50, 60, 43, 42,\n",
            "         8,  1, 56, 43, 57, 53, 50, 60, 43, 42,  8,  0,  0, 18, 47, 56, 57, 58,\n",
            "         1, 15, 47, 58, 47, 64, 43, 52, 10,  0, 18, 47, 56, 57, 58,  6,  1, 63,\n",
            "        53, 59,  1, 49, 52, 53, 61,  1, 15, 39, 47, 59, 57,  1, 25, 39, 56, 41,\n",
            "        47, 59, 57,  1, 47, 57,  1, 41, 46, 47, 43, 44,  1, 43, 52, 43, 51, 63,\n",
            "         1, 58, 53,  1, 58, 46, 43,  1, 54, 43, 53, 54, 50, 43,  8,  0,  0, 13,\n",
            "        50, 50, 10,  0, 35, 43,  1, 49, 52, 53, 61,  5, 58,  6,  1, 61, 43,  1,\n",
            "        49, 52, 53, 61,  5, 58,  8,  0,  0, 18, 47, 56, 57, 58,  1, 15, 47, 58,\n",
            "        47, 64, 43, 52, 10,  0, 24, 43, 58,  1, 59, 57,  1, 49, 47, 50, 50,  1,\n",
            "        46, 47, 51,  6,  1, 39, 52, 42,  1, 61, 43,  5, 50, 50,  1, 46, 39, 60,\n",
            "        43,  1, 41, 53, 56, 52,  1, 39, 58,  1, 53, 59, 56,  1, 53, 61, 52,  1,\n",
            "        54, 56, 47, 41, 43,  8,  0, 21, 57,  5, 58,  1, 39,  1, 60, 43, 56, 42,\n",
            "        47, 41, 58, 12,  0,  0, 13, 50, 50, 10,  0, 26, 53,  1, 51, 53, 56, 43,\n",
            "         1, 58, 39, 50, 49, 47, 52, 45,  1, 53, 52,  5, 58, 11,  1, 50, 43, 58,\n",
            "         1, 47, 58,  1, 40, 43,  1, 42, 53, 52, 43, 10,  1, 39, 61, 39, 63,  6,\n",
            "         1, 39, 61, 39, 63,  2,  0,  0, 31, 43, 41, 53, 52, 42,  1, 15, 47, 58,\n",
            "        47, 64, 43, 52, 10,  0, 27, 52, 43,  1, 61, 53, 56, 42,  6,  1, 45, 53,\n",
            "        53, 42,  1, 41, 47, 58, 47, 64, 43, 52, 57,  8,  0,  0, 18, 47, 56, 57,\n",
            "        58,  1, 15, 47, 58, 47, 64, 43, 52, 10,  0, 35, 43,  1, 39, 56, 43,  1,\n",
            "        39, 41, 41, 53, 59, 52, 58, 43, 42,  1, 54, 53, 53, 56,  1, 41, 47, 58,\n",
            "        47, 64, 43, 52, 57,  6,  1, 58, 46, 43,  1, 54, 39, 58, 56, 47, 41, 47,\n",
            "        39, 52, 57,  1, 45, 53, 53, 42,  8,  0, 35, 46, 39, 58,  1, 39, 59, 58,\n",
            "        46, 53, 56, 47, 58, 63,  1, 57, 59, 56, 44, 43, 47, 58, 57,  1, 53, 52,\n",
            "         1, 61, 53, 59, 50, 42,  1, 56, 43, 50, 47, 43, 60, 43,  1, 59, 57, 10,\n",
            "         1, 47, 44,  1, 58, 46, 43, 63,  0, 61, 53, 59, 50, 42,  1, 63, 47, 43,\n",
            "        50, 42,  1, 59, 57,  1, 40, 59, 58,  1, 58, 46, 43,  1, 57, 59, 54, 43,\n",
            "        56, 44, 50, 59, 47, 58, 63,  6,  1, 61, 46, 47, 50, 43,  1, 47, 58,  1,\n",
            "        61, 43, 56, 43,  0, 61, 46, 53, 50, 43, 57, 53, 51, 43,  6,  1, 61, 43,\n",
            "         1, 51, 47, 45, 46, 58,  1, 45, 59, 43, 57, 57,  1, 58, 46, 43, 63,  1,\n",
            "        56, 43, 50, 47, 43, 60, 43, 42,  1, 59, 57,  1, 46, 59, 51, 39, 52, 43,\n",
            "        50, 63, 11,  0, 40, 59, 58,  1, 58, 46, 43, 63,  1, 58, 46, 47, 52, 49,\n",
            "         1, 61, 43,  1, 39, 56, 43,  1, 58, 53, 53,  1, 42, 43, 39, 56, 10,  1,\n",
            "        58, 46, 43,  1, 50, 43, 39, 52, 52, 43, 57, 57,  1, 58, 46, 39, 58,  0,\n",
            "        39, 44, 44, 50, 47, 41, 58, 57,  1, 59, 57,  6,  1, 58, 46, 43,  1, 53,\n",
            "        40, 48, 43, 41, 58,  1, 53, 44,  1, 53, 59, 56,  1, 51, 47, 57, 43, 56,\n",
            "        63,  6,  1, 47, 57,  1, 39, 57,  1, 39, 52,  0, 47, 52, 60, 43, 52, 58,\n",
            "        53, 56, 63,  1, 58, 53,  1, 54, 39, 56, 58, 47, 41, 59, 50, 39, 56, 47,\n",
            "        57, 43,  1, 58, 46, 43, 47, 56,  1, 39, 40, 59, 52, 42, 39, 52, 41, 43,\n",
            "        11,  1, 53, 59, 56,  0, 57, 59, 44, 44, 43, 56, 39, 52, 41, 43,  1, 47,\n",
            "        57,  1, 39,  1, 45, 39, 47, 52,  1, 58, 53,  1, 58, 46, 43, 51,  1, 24,\n",
            "        43, 58,  1, 59, 57,  1, 56, 43, 60, 43, 52, 45, 43,  1, 58, 46, 47, 57,\n",
            "         1, 61, 47, 58, 46,  0, 53, 59, 56,  1, 54, 47, 49, 43, 57,  6,  1, 43,\n",
            "        56, 43,  1, 61, 43,  1, 40, 43, 41, 53, 51, 43,  1, 56, 39, 49, 43, 57,\n",
            "        10,  1, 44, 53, 56,  1, 58, 46, 43,  1, 45, 53, 42, 57,  1, 49, 52, 53,\n",
            "        61,  1, 21,  0, 57, 54, 43, 39, 49,  1, 58, 46, 47, 57,  1, 47, 52,  1,\n",
            "        46, 59, 52, 45, 43, 56,  1, 44, 53, 56,  1, 40, 56, 43, 39, 42,  6,  1,\n",
            "        52, 53, 58,  1, 47, 52,  1, 58, 46, 47, 56, 57, 58,  1, 44, 53, 56,  1,\n",
            "        56, 43, 60, 43, 52, 45, 43,  8,  0,  0])\n"
          ]
        }
      ]
    },
    {
      "cell_type": "markdown",
      "source": [
        "# [Study] Make Batch"
      ],
      "metadata": {
        "id": "2IXxkcSPnrlS"
      }
    },
    {
      "cell_type": "code",
      "source": [
        "# split into training and validation sets\n",
        "n = int(0.9*len(data))\n",
        "train_data = data[:n]\n",
        "val_data = data[n:]"
      ],
      "metadata": {
        "id": "qshZhzxnn3BT"
      },
      "execution_count": null,
      "outputs": []
    },
    {
      "cell_type": "code",
      "source": [
        "block_size = 8\n",
        "train_data[:block_size+1]"
      ],
      "metadata": {
        "colab": {
          "base_uri": "https://localhost:8080/"
        },
        "id": "7E5b2J_soGKY",
        "outputId": "4221f37b-3d26-4b30-e41a-af27bf763023"
      },
      "execution_count": null,
      "outputs": [
        {
          "output_type": "execute_result",
          "data": {
            "text/plain": [
              "tensor([18, 47, 56, 57, 58,  1, 15, 47, 58])"
            ]
          },
          "metadata": {},
          "execution_count": 7
        }
      ]
    },
    {
      "cell_type": "code",
      "source": [
        "# example\n",
        "x = train_data[:block_size]\n",
        "y = train_data[1:block_size+1]\n",
        "for t in range(block_size):\n",
        "  context = x[:t+1]\n",
        "  target = y[t]\n",
        "  print(f\"when input is {context} the target: {target}\")"
      ],
      "metadata": {
        "colab": {
          "base_uri": "https://localhost:8080/"
        },
        "id": "wWwnCfmMoKd_",
        "outputId": "562bacb6-7706-45ac-8991-65abc65467fe"
      },
      "execution_count": null,
      "outputs": [
        {
          "output_type": "stream",
          "name": "stdout",
          "text": [
            "when input is tensor([18]) the target: 47\n",
            "when input is tensor([18, 47]) the target: 56\n",
            "when input is tensor([18, 47, 56]) the target: 57\n",
            "when input is tensor([18, 47, 56, 57]) the target: 58\n",
            "when input is tensor([18, 47, 56, 57, 58]) the target: 1\n",
            "when input is tensor([18, 47, 56, 57, 58,  1]) the target: 15\n",
            "when input is tensor([18, 47, 56, 57, 58,  1, 15]) the target: 47\n",
            "when input is tensor([18, 47, 56, 57, 58,  1, 15, 47]) the target: 58\n"
          ]
        }
      ]
    },
    {
      "cell_type": "code",
      "source": [
        "torch.manual_seed(42)\n",
        "batch_size = 4 # parallel process number\n",
        "block_size = 8 # maximum context length for predictions\n",
        "\n",
        "def get_batch(split): # random batch\n",
        "  data = train_data if split == 'train' else val_data\n",
        "  ix = torch.randint(len(data) - block_size, (batch_size,)) # start index\n",
        "  x = torch.stack([data[i:i+block_size] for i in ix])\n",
        "  y = torch.stack([data[i+1:i+block_size+1] for i in ix])\n",
        "  return x, y\n",
        "\n",
        "xb, yb = get_batch('train')\n",
        "print('inputs:')\n",
        "print(xb.shape)\n",
        "print(xb)\n",
        "print('targets:') # shift right\n",
        "print(yb.shape)\n",
        "print(yb)\n",
        "\n",
        "print('----')\n",
        "\n",
        "for b in range(batch_size):\n",
        "  for t in range(block_size):\n",
        "    context = xb[b, :t+1] # row b-1, col from 0 to t-1\n",
        "    target = yb[b,t] # row b-1, col t-1\n",
        "    print(f\"when input is {context.tolist()} the target: {target}\")"
      ],
      "metadata": {
        "colab": {
          "base_uri": "https://localhost:8080/"
        },
        "id": "W8n63JWkohqI",
        "outputId": "c349e2f0-10eb-4674-9bbe-6e5bf9802ad1"
      },
      "execution_count": null,
      "outputs": [
        {
          "output_type": "stream",
          "name": "stdout",
          "text": [
            "inputs:\n",
            "torch.Size([4, 8])\n",
            "tensor([[57,  1, 46, 47, 57,  1, 50, 53],\n",
            "        [ 1, 58, 46, 43, 56, 43,  1, 41],\n",
            "        [17, 26, 15, 17, 10,  0, 32, 53],\n",
            "        [57, 58,  6,  1, 61, 47, 58, 46]])\n",
            "targets:\n",
            "torch.Size([4, 8])\n",
            "tensor([[ 1, 46, 47, 57,  1, 50, 53, 60],\n",
            "        [58, 46, 43, 56, 43,  1, 41, 39],\n",
            "        [26, 15, 17, 10,  0, 32, 53,  1],\n",
            "        [58,  6,  1, 61, 47, 58, 46,  0]])\n",
            "----\n",
            "when input is [57] the target: 1\n",
            "when input is [57, 1] the target: 46\n",
            "when input is [57, 1, 46] the target: 47\n",
            "when input is [57, 1, 46, 47] the target: 57\n",
            "when input is [57, 1, 46, 47, 57] the target: 1\n",
            "when input is [57, 1, 46, 47, 57, 1] the target: 50\n",
            "when input is [57, 1, 46, 47, 57, 1, 50] the target: 53\n",
            "when input is [57, 1, 46, 47, 57, 1, 50, 53] the target: 60\n",
            "when input is [1] the target: 58\n",
            "when input is [1, 58] the target: 46\n",
            "when input is [1, 58, 46] the target: 43\n",
            "when input is [1, 58, 46, 43] the target: 56\n",
            "when input is [1, 58, 46, 43, 56] the target: 43\n",
            "when input is [1, 58, 46, 43, 56, 43] the target: 1\n",
            "when input is [1, 58, 46, 43, 56, 43, 1] the target: 41\n",
            "when input is [1, 58, 46, 43, 56, 43, 1, 41] the target: 39\n",
            "when input is [17] the target: 26\n",
            "when input is [17, 26] the target: 15\n",
            "when input is [17, 26, 15] the target: 17\n",
            "when input is [17, 26, 15, 17] the target: 10\n",
            "when input is [17, 26, 15, 17, 10] the target: 0\n",
            "when input is [17, 26, 15, 17, 10, 0] the target: 32\n",
            "when input is [17, 26, 15, 17, 10, 0, 32] the target: 53\n",
            "when input is [17, 26, 15, 17, 10, 0, 32, 53] the target: 1\n",
            "when input is [57] the target: 58\n",
            "when input is [57, 58] the target: 6\n",
            "when input is [57, 58, 6] the target: 1\n",
            "when input is [57, 58, 6, 1] the target: 61\n",
            "when input is [57, 58, 6, 1, 61] the target: 47\n",
            "when input is [57, 58, 6, 1, 61, 47] the target: 58\n",
            "when input is [57, 58, 6, 1, 61, 47, 58] the target: 46\n",
            "when input is [57, 58, 6, 1, 61, 47, 58, 46] the target: 0\n"
          ]
        }
      ]
    },
    {
      "cell_type": "markdown",
      "source": [
        "# [Study] Model setting"
      ],
      "metadata": {
        "id": "2iNpcNXC7YI-"
      }
    },
    {
      "cell_type": "code",
      "source": [
        "import torch\n",
        "import torch.nn as nn\n",
        "from torch.nn import functional as F\n",
        "torch.manual_seed(42)\n",
        "\n",
        "class BigramLanguageModel(nn.Module):\n",
        "\n",
        "  def __init__(self, vocab_size):\n",
        "    super().__init__()\n",
        "    self.token_embedding_table = nn.Embedding(vocab_size, vocab_size) # num_embeddidngs, embedding_dim\n",
        "\n",
        "  def forward(self, idx, targets=None):\n",
        "    logits = self.token_embedding_table(idx) # (B:batch, T:block size, C:vocab size)\n",
        "\n",
        "    if targets is None:\n",
        "      loss = None\n",
        "    else:\n",
        "      B, T, C = logits.shape\n",
        "      logits = logits.view(B*T, C)\n",
        "      targets = targets.view(B*T)\n",
        "      loss = F.cross_entropy(logits, targets)\n",
        "\n",
        "    return logits, loss\n",
        "\n",
        "  def generate(self, idx, max_new_tokens):\n",
        "    for _ in range(max_new_tokens):\n",
        "      logits, _ = self(idx) # forward(idx)\n",
        "      logits = logits[:, -1, :] # last time step, (B, C)\n",
        "      probs = F.softmax(logits, dim=-1)\n",
        "      idx_next = torch.multinomial(probs, num_samples=1) # pred idx from distribution, (B, 1)\n",
        "      idx = torch.cat((idx, idx_next), dim=1) # (B, T+1)\n",
        "    return idx\n",
        "\n",
        "m = BigramLanguageModel(vocab_size)\n",
        "logits, loss = m(xb, yb) # idx, targets\n",
        "\n",
        "print(logits.shape)\n",
        "print(loss)\n",
        "print(decode(m.generate(idx=torch.zeros((1, 1), dtype=torch.long), max_new_tokens=100)[0].tolist()))"
      ],
      "metadata": {
        "id": "bCCgbc3I7egj",
        "colab": {
          "base_uri": "https://localhost:8080/"
        },
        "outputId": "122b29a6-22ba-405c-c32e-35a2939567cd"
      },
      "execution_count": null,
      "outputs": [
        {
          "output_type": "stream",
          "name": "stdout",
          "text": [
            "torch.Size([32, 65])\n",
            "tensor(4.8865, grad_fn=<NllLossBackward0>)\n",
            "\n",
            "uoiaF$z\n",
            "M?kI;h\n",
            "DbuMG,H3LYNmrDxKgTpvAKOF-jU.hc;fBMTGa-IS\n",
            "g3lEb&ZQ,l;:m;lpcNN\n",
            "KpVEYRIIM,'hCRbMAcWTkrnH\n"
          ]
        }
      ]
    },
    {
      "cell_type": "code",
      "source": [
        "optimizer = torch.optim.AdamW(m.parameters(), lr=1e-3)"
      ],
      "metadata": {
        "id": "W1uXO7sTI1bl"
      },
      "execution_count": null,
      "outputs": []
    },
    {
      "cell_type": "code",
      "source": [
        "batch_size = 32\n",
        "for steps in range(100):\n",
        "  xb, yb = get_batch('train')\n",
        "\n",
        "  logits, loss = m(xb, yb)\n",
        "  optimizer.zero_grad(set_to_none=True) ###\n",
        "  loss.backward()\n",
        "  optimizer.step()\n",
        "\n",
        "print(loss.item())"
      ],
      "metadata": {
        "colab": {
          "base_uri": "https://localhost:8080/"
        },
        "id": "L6PNMZ7OI_Ap",
        "outputId": "57ee04d1-f239-4fb5-eb1a-8044e05d93fe"
      },
      "execution_count": null,
      "outputs": [
        {
          "output_type": "stream",
          "name": "stdout",
          "text": [
            "4.696559429168701\n"
          ]
        }
      ]
    },
    {
      "cell_type": "code",
      "source": [
        "print(decode(m.generate(idx=torch.zeros((1, 1), dtype=torch.long), max_new_tokens=500)[0].tolist()))"
      ],
      "metadata": {
        "colab": {
          "base_uri": "https://localhost:8080/"
        },
        "id": "eBIBbAFYJ3oI",
        "outputId": "383818e8-47ac-494c-f3dd-8cde06fe9cb8"
      },
      "execution_count": null,
      "outputs": [
        {
          "output_type": "stream",
          "name": "stdout",
          "text": [
            "\n",
            "gU&el.yH.kVeubl;UDJ.jYwVFkmtY;iI- ,3kS;iOm;fxtIw,3QgWHGm;wna3Up'Sjzbh yRNw,.JE MfgB?HcUXzJk-IXGXZHBCl;cXZzAGtC;RfxW&Ij-qXzpffUy$,wUulr!vvKpHba-\n",
            "dw,gTgToxVirWdVde3LiyZnvssM'YkxdtbXzBGUX?WrYb&I,,gjPqEm?quq!g3mWmF&h'STPcYeXMgsqT;BURxokghAGHrfS?WrJZkFstPGHb&ChSxnpgrY.VzBNw'H$&jvT;LDIMvkJ.cN\n",
            "iuovTB!bBQWvXgloRqJ\n",
            "WC\n",
            "Nxxd3T,VB?-&he'oRD;bWdht.cbp,MpquPMCUjVFfZiIYiRFXhWgZV:Jok&Lq,cWdV:'NqfgBZqaqnGUfg3Yt&KS?kaqWD gZH;.WXhSsysblcc.IA'Q,qWVWHKb.n;gTizQHbMi3LnI'VXE&.wTkFRYICPnjixl'jGfgZAJWChjUpFqckT-jvPaUqfn'\n"
          ]
        }
      ]
    },
    {
      "cell_type": "markdown",
      "source": [
        "# Main"
      ],
      "metadata": {
        "id": "7gh3Z7nPMX10"
      }
    },
    {
      "cell_type": "code",
      "source": [
        "import torch\n",
        "import torch.nn as nn\n",
        "from torch.nn import functional as F\n",
        "torch.manual_seed(42)"
      ],
      "metadata": {
        "id": "0sN4QSstN6RZ",
        "colab": {
          "base_uri": "https://localhost:8080/"
        },
        "outputId": "a4669293-915b-40fc-a4c5-49543703d30f"
      },
      "execution_count": 20,
      "outputs": [
        {
          "output_type": "execute_result",
          "data": {
            "text/plain": [
              "<torch._C.Generator at 0x7a4cc83ad830>"
            ]
          },
          "metadata": {},
          "execution_count": 20
        }
      ]
    },
    {
      "cell_type": "code",
      "source": [
        "# hyperparameters (not equal)\n",
        "batch_size = 16\n",
        "block_size = 12 # maximum context length for predictions\n",
        "max_iters = 5000\n",
        "eval_interval = 100\n",
        "learning_rate = 1e-3\n",
        "device = 'cuda' if torch.cuda.is_available() else 'cpu'\n",
        "eval_iters = 200\n",
        "n_embed = 64\n",
        "n_head = 4\n",
        "n_layer = 4\n",
        "dropout = 0.0"
      ],
      "metadata": {
        "id": "1OEZbi4BOdzy"
      },
      "execution_count": 25,
      "outputs": []
    },
    {
      "cell_type": "code",
      "source": [
        "! wget https://raw.githubusercontent.com/karpathy/char-rnn/master/data/tinyshakespeare/input.txt\n",
        "with open('input.txt', 'r', encoding='utf-8') as f:\n",
        "  text = f.read()"
      ],
      "metadata": {
        "colab": {
          "base_uri": "https://localhost:8080/"
        },
        "id": "gNWUhDhFPXOv",
        "outputId": "fe8124e2-8443-4ebf-83fd-07d78d089335"
      },
      "execution_count": 22,
      "outputs": [
        {
          "output_type": "stream",
          "name": "stdout",
          "text": [
            "--2024-03-25 10:28:58--  https://raw.githubusercontent.com/karpathy/char-rnn/master/data/tinyshakespeare/input.txt\n",
            "Resolving raw.githubusercontent.com (raw.githubusercontent.com)... 185.199.110.133, 185.199.108.133, 185.199.111.133, ...\n",
            "Connecting to raw.githubusercontent.com (raw.githubusercontent.com)|185.199.110.133|:443... connected.\n",
            "HTTP request sent, awaiting response... 200 OK\n",
            "Length: 1115394 (1.1M) [text/plain]\n",
            "Saving to: ‘input.txt.1’\n",
            "\n",
            "\rinput.txt.1           0%[                    ]       0  --.-KB/s               \rinput.txt.1         100%[===================>]   1.06M  --.-KB/s    in 0.05s   \n",
            "\n",
            "2024-03-25 10:28:58 (20.4 MB/s) - ‘input.txt.1’ saved [1115394/1115394]\n",
            "\n"
          ]
        }
      ]
    },
    {
      "cell_type": "code",
      "source": [
        "chars = sorted(list(set(text))) # unique characters\n",
        "vocab_size = len(chars)\n",
        "\n",
        "stoi = { ch:i for i,ch in enumerate(chars) }\n",
        "itos = { i:ch for i,ch in enumerate(chars) }\n",
        "encode = lambda s: [stoi[c] for c in s] # string > list of integers\n",
        "decode = lambda l: ''.join([itos[i] for i in l]) # list of integers > string"
      ],
      "metadata": {
        "id": "YHX72yaaPjq7"
      },
      "execution_count": null,
      "outputs": []
    },
    {
      "cell_type": "code",
      "source": [
        "data = torch.tensor(encode(text), dtype=torch.long)\n",
        "n = int(0.9 * len(data)) # 90% train, 10% val\n",
        "train_data = data[:n]\n",
        "val_data = data[n:]"
      ],
      "metadata": {
        "id": "X3QMuZB5QQqe"
      },
      "execution_count": null,
      "outputs": []
    },
    {
      "cell_type": "code",
      "source": [
        "def get_batch(split):\n",
        "  data = train_data if split == 'train' else val_data\n",
        "  ix = torch.randint(len(data) - block_size, (batch_size,)) # high, size\n",
        "  x = torch.stack([data[i:i+block_size] for i in ix]) # (batch_size, block_size)\n",
        "  y = torch.stack([data[i+1:i+block_size+1] for i in ix]) # shift right\n",
        "  x, y = x.to(device), y.to(device)\n",
        "\n",
        "  return x, y"
      ],
      "metadata": {
        "id": "kkka8y2wQd_i"
      },
      "execution_count": null,
      "outputs": []
    },
    {
      "cell_type": "code",
      "source": [
        "class Head(nn.Module):\n",
        "\n",
        "  def __init__(self, head_size):\n",
        "    super().__init__()\n",
        "    self.head_size = head_size # different!!\n",
        "    self.key = nn.Linear(n_embed, head_size, bias=False)\n",
        "    self.query = nn.Linear(n_embed, head_size, bias=False)\n",
        "    self.value = nn.Linear(n_embed, head_size, bias=False)\n",
        "    self.register_buffer('tril', torch.tril(torch.ones(block_size, block_size))) # no parameter, no update\n",
        "    self.dropout = nn.Dropout(dropout)\n",
        "\n",
        "  def forward(self, x):\n",
        "    B, T, _ = x.shape # (B:batch_size, T:vocab_size , _:n_embed) # different!!\n",
        "    C = self.head_size # different!!\n",
        "    k = self.key(x) # (B, T, C)\n",
        "    q = self.query(x) # (B, T, C)\n",
        "    v = self.value(x) # (B, T, C)\n",
        "\n",
        "    wei = q @ k.transpose(-2, -1) * C**-0.5 # (B, T, C) @ (B, C, T) > (B, T, T)\n",
        "    wei = wei.masked_fill(self.tril[:T, :T] == 0, float('-inf')) # (B, T, T)\n",
        "    wei = F.softmax(wei, dim=-1) # (B, T, T)\n",
        "    wei = self.dropout(wei)\n",
        "    out = wei @ v # (B, T, T) @ (B, T, C) > (B, T, C)\n",
        "\n",
        "    return out"
      ],
      "metadata": {
        "id": "3_RxM01LSdNW"
      },
      "execution_count": null,
      "outputs": []
    },
    {
      "cell_type": "code",
      "source": [
        "class MultiHeadAttention(nn.Module):\n",
        "\n",
        "  def __init__(self, num_heads, head_size):\n",
        "    super().__init__()\n",
        "    self.heads = nn.ModuleList([Head(head_size) for _ in range(num_heads)])\n",
        "    self.proj = nn.Linear(n_embed, n_embed)\n",
        "    self.dropout = nn.Dropout(dropout)\n",
        "\n",
        "  def forward(self, x):\n",
        "    out = torch.cat([h(x) for h in self.heads], dim=-1) # concatenate\n",
        "    out = self.dropout(self.proj(out))\n",
        "\n",
        "    return out"
      ],
      "metadata": {
        "id": "jDHQn2dOTZul"
      },
      "execution_count": null,
      "outputs": []
    },
    {
      "cell_type": "code",
      "source": [
        "class FeedForward(nn.Module):\n",
        "\n",
        "  def __init__(self, n_embed):\n",
        "    super().__init__()\n",
        "    self.net = nn.Sequential(\n",
        "        nn.Linear(n_embed, 4*n_embed),\n",
        "        nn.ReLU(),\n",
        "        nn.Linear(4*n_embed, n_embed),\n",
        "        nn.Dropout(dropout),\n",
        "    )\n",
        "\n",
        "  def forward(self, x):\n",
        "    return self.net(x)"
      ],
      "metadata": {
        "id": "_B5F-a6pg4nY"
      },
      "execution_count": null,
      "outputs": []
    },
    {
      "cell_type": "code",
      "source": [
        "class Block(nn.Module):\n",
        "\n",
        "  def __init__(self, n_embed, n_head):\n",
        "    super().__init__()\n",
        "    head_size = n_embed // n_head\n",
        "    self.sa = MultiHeadAttention(n_head, head_size)\n",
        "    self.ffwd = FeedForward(n_embed)\n",
        "    self.ln1 = nn.LayerNorm(n_embed)\n",
        "    self.ln2 = nn.LayerNorm(n_embed)\n",
        "\n",
        "  def forward(self, x):\n",
        "    x = self.ln1(x + self.sa(x)) # different!!\n",
        "    x = self.ln2(x + self.ffwd(x)) # different!!\n",
        "\n",
        "    return x"
      ],
      "metadata": {
        "id": "S4JXZttyknnX"
      },
      "execution_count": null,
      "outputs": []
    },
    {
      "cell_type": "code",
      "source": [
        "class BigramLanguageModel(nn.Module):\n",
        "\n",
        "  def __init__(self):\n",
        "    super().__init__()\n",
        "    self.token_embedding_table = nn.Embedding(vocab_size, n_embed)\n",
        "    self.position_embedding_table = nn.Embedding(block_size, n_embed)\n",
        "    self.blocks = nn.Sequential(*[Block(n_embed, n_head=n_head) for _ in range(n_layer)])\n",
        "    # self.ln_f = nn.LayerNorm(n_embed) different!!\n",
        "    self.lm_head = nn.Linear(n_embed, vocab_size)\n",
        "\n",
        "  def forward(self, idx, targets=None):\n",
        "    B, T = idx.shape\n",
        "\n",
        "    tok_embed = self.token_embedding_table(idx) # (B, T, C)\n",
        "    pos_embed = self.position_embedding_table(torch.arange(T, device=device)) # (B, T, C)\n",
        "    x = tok_embed + pos_embed # (B, T, C)\n",
        "    x = self.blocks(x) # (B, T, C)\n",
        "    # x = self.ln_f(x) different!!\n",
        "    logits = self.lm_head(x)\n",
        "\n",
        "    if targets is None:\n",
        "      loss = None\n",
        "    else:\n",
        "      B, T, C = logits.shape\n",
        "      logits = logits.view(B*T, C)\n",
        "      targets = targets.view(B*T)\n",
        "      loss = F.cross_entropy(logits, targets)\n",
        "\n",
        "    return logits, loss\n",
        "\n",
        "  def generate(self, idx, max_new_tokens):\n",
        "    for _ in range(max_new_tokens):\n",
        "      idx_cond = idx[:, -block_size:] # maintain last block_size tokens\n",
        "      logits, loss = self(idx_cond) # get prediction\n",
        "      logits = logits[:, -1, :] # last time step\n",
        "      probs = F.softmax(logits, dim=-1) # get probability\n",
        "      idx_next = torch.multinomial(probs, num_samples=1) # sampling the best token\n",
        "      idx = torch.cat((idx, idx_next), dim=1) # append new token to update sequence\n",
        "\n",
        "    return idx"
      ],
      "metadata": {
        "id": "oeZbEzKBoVZx"
      },
      "execution_count": null,
      "outputs": []
    },
    {
      "cell_type": "code",
      "source": [
        "model = BigramLanguageModel()\n",
        "m = model.to(device)\n",
        "print(sum(p.numel() for p in m.parameters())/1e6, \"M parameters\") # million scale\n",
        "# because no LayerNorm at BigramLanguageModel, number of paramters decrease."
      ],
      "metadata": {
        "colab": {
          "base_uri": "https://localhost:8080/"
        },
        "id": "xwtXNB8Pzewc",
        "outputId": "33483495-5f4d-4c6c-b1f4-45c98845100a"
      },
      "execution_count": null,
      "outputs": [
        {
          "output_type": "stream",
          "name": "stdout",
          "text": [
            "0.208321 M parameters\n"
          ]
        }
      ]
    },
    {
      "cell_type": "code",
      "source": [
        "@torch.no_grad()\n",
        "def estimate_loss():\n",
        "  out = {}\n",
        "  model.eval() # evaluation mode\n",
        "  for split in ['train', 'val']:\n",
        "    losses = torch.zeros(eval_iters)\n",
        "    for k in range(eval_iters):\n",
        "      X, Y = get_batch(split)\n",
        "      logits, loss = model(X, Y)\n",
        "      losses[k] = loss.item()\n",
        "    out[split] = losses.mean()\n",
        "  model.train() # training mode\n",
        "\n",
        "  return out"
      ],
      "metadata": {
        "id": "TllR1TZ5zrKx"
      },
      "execution_count": null,
      "outputs": []
    },
    {
      "cell_type": "code",
      "source": [
        "optimizer = torch.optim.AdamW(model.parameters(), lr=learning_rate)"
      ],
      "metadata": {
        "id": "YP7KkQES0Bwj"
      },
      "execution_count": null,
      "outputs": []
    },
    {
      "cell_type": "code",
      "source": [
        "for iter in range(max_iters):\n",
        "  if iter % eval_interval == 0 or iter == max_iters - 1:\n",
        "    losses = estimate_loss()\n",
        "    print(f\"step {iter}: train loss {losses['train']:.4f}, val loss {losses['val']:.4f}\")\n",
        "\n",
        "  xb, yb = get_batch('train')\n",
        "\n",
        "  logits, loss = model(xb, yb)\n",
        "  optimizer.zero_grad(set_to_none=True)\n",
        "  loss.backward()\n",
        "  optimizer.step()"
      ],
      "metadata": {
        "id": "qR2Dctvr0G8E",
        "colab": {
          "base_uri": "https://localhost:8080/"
        },
        "outputId": "a0c19186-f3ae-4b8f-e340-f43dab847d9c"
      },
      "execution_count": 23,
      "outputs": [
        {
          "output_type": "stream",
          "name": "stdout",
          "text": [
            "step 0: train loss 4.3598, val loss 4.3595\n",
            "step 100: train loss 2.6705, val loss 2.6979\n",
            "step 200: train loss 2.4808, val loss 2.4836\n",
            "step 300: train loss 2.4016, val loss 2.3962\n",
            "step 400: train loss 2.3316, val loss 2.3303\n",
            "step 500: train loss 2.2934, val loss 2.3049\n",
            "step 600: train loss 2.2347, val loss 2.2598\n",
            "step 700: train loss 2.1915, val loss 2.2229\n",
            "step 800: train loss 2.1823, val loss 2.2216\n",
            "step 900: train loss 2.1399, val loss 2.1727\n",
            "step 1000: train loss 2.1326, val loss 2.1712\n",
            "step 1100: train loss 2.0934, val loss 2.1296\n",
            "step 1200: train loss 2.0715, val loss 2.1215\n",
            "step 1300: train loss 2.0503, val loss 2.1126\n",
            "step 1400: train loss 2.0448, val loss 2.1272\n",
            "step 1500: train loss 2.0218, val loss 2.0869\n",
            "step 1600: train loss 2.0120, val loss 2.0858\n",
            "step 1700: train loss 2.0008, val loss 2.0773\n",
            "step 1800: train loss 1.9861, val loss 2.0613\n",
            "step 1900: train loss 2.0009, val loss 2.0912\n",
            "step 2000: train loss 1.9592, val loss 2.0698\n",
            "step 2100: train loss 1.9682, val loss 2.0659\n",
            "step 2200: train loss 1.9485, val loss 2.0148\n",
            "step 2300: train loss 1.9431, val loss 2.0275\n",
            "step 2400: train loss 1.9450, val loss 2.0330\n",
            "step 2500: train loss 1.9213, val loss 2.0276\n",
            "step 2600: train loss 1.9073, val loss 2.0106\n",
            "step 2700: train loss 1.9260, val loss 2.0074\n",
            "step 2800: train loss 1.9043, val loss 2.0042\n",
            "step 2900: train loss 1.9094, val loss 2.0075\n",
            "step 3000: train loss 1.8966, val loss 1.9799\n",
            "step 3100: train loss 1.8713, val loss 1.9858\n",
            "step 3200: train loss 1.8667, val loss 2.0078\n",
            "step 3300: train loss 1.8793, val loss 1.9871\n",
            "step 3400: train loss 1.8643, val loss 1.9686\n",
            "step 3500: train loss 1.8670, val loss 1.9828\n",
            "step 3600: train loss 1.8664, val loss 1.9730\n",
            "step 3700: train loss 1.8576, val loss 1.9857\n",
            "step 3800: train loss 1.8507, val loss 1.9710\n",
            "step 3900: train loss 1.8436, val loss 1.9787\n",
            "step 4000: train loss 1.8350, val loss 1.9775\n",
            "step 4100: train loss 1.8368, val loss 1.9582\n",
            "step 4200: train loss 1.8562, val loss 1.9840\n",
            "step 4300: train loss 1.8322, val loss 1.9784\n",
            "step 4400: train loss 1.8417, val loss 1.9522\n",
            "step 4500: train loss 1.8377, val loss 1.9829\n",
            "step 4600: train loss 1.8263, val loss 1.9547\n",
            "step 4700: train loss 1.8199, val loss 1.9632\n",
            "step 4800: train loss 1.8034, val loss 1.9612\n",
            "step 4900: train loss 1.8380, val loss 1.9398\n",
            "step 4999: train loss 1.8242, val loss 1.9612\n"
          ]
        }
      ]
    },
    {
      "cell_type": "code",
      "source": [
        "context = torch.zeros((1, 1), dtype=torch.long, device=device)\n",
        "print(decode(m.generate(context, max_new_tokens=2000)[0].tolist()))"
      ],
      "metadata": {
        "id": "6l9o9bli0nbO",
        "colab": {
          "base_uri": "https://localhost:8080/"
        },
        "outputId": "de7c53a1-fc12-4cb0-923e-02e87fdee1f8"
      },
      "execution_count": 24,
      "outputs": [
        {
          "output_type": "stream",
          "name": "stdout",
          "text": [
            "\n",
            "it him shall, upnighter the wass but heat your leve\n",
            "And reaton that nove?\n",
            "I pree grue!\n",
            "Where a to Warwicks, the deat own'd shich?\n",
            "It ware our sires!\n",
            "Ha, not be worle his kird.\n",
            "Vatted to the\n",
            "messee this castery, man, I a thumb of thy kings,\n",
            "For the warce! hefore the hone with and wantroans wors to hear king\n",
            "upant.\n",
            "\n",
            "HASTENNRY:\n",
            "Cracurow tianizight no, thy all's wet be abe meann, segas sir, and were hears; well for nantrys will a dean' time:\n",
            "And, to relight:\n",
            "As not our cousech in the frue genes oftalds\n",
            "But he manal.\n",
            "\n",
            "ELINA:\n",
            "O, that thee.\n",
            "\n",
            "LLAURENGS OJAUL:\n",
            "But eyeven Is edies for your at finight marran that wardos, so, and meanch my lord and.\n",
            "\n",
            "Lord's theirget your all,  alore\n",
            "Compose's many hear will tell?\n",
            "Or my see his pdap the son a leep's ammand\n",
            "By't of dieN.\n",
            "\n",
            "SOMBEL:\n",
            "Cerious:\n",
            "O to of to m's shall he rathre's lenges and your ligh this davate spacts and that he the sorly, and this have fools so lave the great Ove---\n",
            "Who, to well I'ld I to by,\n",
            "And another;\n",
            "Brow rue a CrienTreat here for him but help Letere justest the eage, world how very boy\n",
            "To bugnot erequesting on o' too.W\n",
            "\n",
            "SICIO:\n",
            "Eathere son: groward: take you, take WarwIX\n",
            "Trace.\n",
            "\n",
            "MENES:\n",
            "What, me Henry ofxe power, some now by his news kings!\n",
            "\n",
            "AUTOLYCUS:\n",
            "Stake stat you? wondetber, bseciance it your head!\n",
            "\n",
            "LUCIO:\n",
            "To my estaland preas ints mutherk truights a angele'! should, anthem be those othind,\n",
            "That he genter revener\n",
            "would weat, the but pass' where.\n",
            "Quepalish was fightets of that corn,\n",
            "Comarried, whal, followas depries take yet,\n",
            "Lord, for stat thy laddyen's voit his you\n",
            "I be,\n",
            "From somingion with that agains'd\n",
            "Offoraight off of the heatss:\n",
            "Rome, back most in lack featily know the farew to not you, though what comhand offector.\n",
            "Your toee of tellit.\n",
            "Doth vice, shis with I am meat to shoup; the woodN Mantors, so live a to\n",
            "devers hee thoughte, manice, him will bog fee and,\n",
            "And much ay a lievie,\n",
            "This en, you see this besall.\n",
            "\n",
            "LLONTES:\n",
            "Whereful see spake-be thork;\n",
            "Wet meins with go have own maner flastle sir, shriep and e\n"
          ]
        }
      ]
    }
  ]
}